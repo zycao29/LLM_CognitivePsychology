{
 "cells": [
  {
   "cell_type": "code",
   "execution_count": 1,
   "id": "debfe064",
   "metadata": {},
   "outputs": [
    {
     "name": "stderr",
     "output_type": "stream",
     "text": [
      "2025-05-05 18:13:17.682648: E external/local_xla/xla/stream_executor/cuda/cuda_fft.cc:485] Unable to register cuFFT factory: Attempting to register factory for plugin cuFFT when one has already been registered\n",
      "2025-05-05 18:13:17.696294: E external/local_xla/xla/stream_executor/cuda/cuda_dnn.cc:8454] Unable to register cuDNN factory: Attempting to register factory for plugin cuDNN when one has already been registered\n",
      "2025-05-05 18:13:17.700509: E external/local_xla/xla/stream_executor/cuda/cuda_blas.cc:1452] Unable to register cuBLAS factory: Attempting to register factory for plugin cuBLAS when one has already been registered\n",
      "2025-05-05 18:13:17.710827: I tensorflow/core/platform/cpu_feature_guard.cc:210] This TensorFlow binary is optimized to use available CPU instructions in performance-critical operations.\n",
      "To enable the following instructions: AVX2 FMA, in other operations, rebuild TensorFlow with the appropriate compiler flags.\n",
      "2025-05-05 18:13:18.350365: W tensorflow/compiler/tf2tensorrt/utils/py_utils.cc:38] TF-TRT Warning: Could not find TensorRT\n"
     ]
    }
   ],
   "source": [
    "import torch\n",
    "from transformers import AutoModelForCausalLM, AutoTokenizer, pipeline\n",
    "\n",
    "prompt = \"\"\"\n",
    "Task: Given a study list and a question list, determine if each person-location pair in the questions exists in the study list. If the pair is found, respond with \"yes\"; otherwise, respond with \"no.\" Present your answers in a CSV format.\n",
    "\n",
    "Inputs\n",
    "Study List: A list of sentences in the format \"The person is in the location.\"\n",
    "Question List: A list of questions in the format \"Is the person in the location?\"\n",
    "\n",
    "Steps to Answer:\n",
    "1: Review each question in the question list.\n",
    "2: Check if the exact \"person is in the location\" pair from each question is present in the study list.\n",
    "3: If the pair is found in the study list, the answer is \"yes.\"\n",
    "4: If the pair is not found, the answer is \"no.\"\n",
    "5: Present the results in CSV format, with each line containing the order of the question and the corresponding \"yes\" or \"no\" answer.\n",
    "\n",
    "Study list is [  \n",
    "The actor is in the airport,\n",
    "The chef is in the attic,\n",
    "The coach is in the bank,\n",
    "The cowboy is in the barn,\n",
    "The dancer is in the castle,\n",
    "The detective is in the church,\n",
    "The doctor is in the clinic,\n",
    "The engineer is in the factory,\n",
    "The farmer is in the garage,\n",
    "The gardener is in the hallway,\n",
    "The hippie is in the hotel,\n",
    "The inventor is in the kitchen,\n",
    "The judge is in the laboratory,\n",
    "The maid is in the library,\n",
    "The musician is in the museum,\n",
    "The pilot is in the nightclub,\n",
    "The pirate is in the office,\n",
    "The queen is in the park,\n",
    "The scientist is in the prison,\n",
    "The sheriff is in the school,\n",
    "The soldier is in the stadium,\n",
    "The spy is in the studio,\n",
    "The teacher is in the temple,\n",
    "The tourist is in the theater,\n",
    "The accountant is in the beach,\n",
    "The artist is in the cinema,\n",
    "The dentist is in the hospital,\n",
    "The nurse is in the restaurant,\n",
    "The writer is in the station,\n",
    "The barista is in the mall,\n",
    "The firefighter is in the zoo,\n",
    "The lawyer is in the pharmacy\n",
    "]. \n",
    "    \n",
    "Question list is [\n",
    "Is the actor in the airport?,\n",
    "Is the chef in the attic?,\n",
    "Is the coach in the bank?,\n",
    "Is the cowboy in the barn?,\n",
    "Is the dancer in the castle?,\n",
    "Is the detective in the church?,\n",
    "Is the doctor in the clinic?,\n",
    "Is the engineer in the factory?,\n",
    "Is the farmer in the garage?,\n",
    "Is the gardener in the hallway?,\n",
    "Is the hippie in the hotel?,\n",
    "Is the inventor in the kitchen?,\n",
    "Is the judge in the laboratory?,\n",
    "Is the maid in the library?,\n",
    "Is the musician in the museum?,\n",
    "Is the pilot in the nightclub?,\n",
    "Is the pirate in the office?,\n",
    "Is the queen in the park?,\n",
    "Is the scientist in the prison?,\n",
    "Is the sheriff in the school?,\n",
    "Is the soldier in the stadium?,\n",
    "Is the spy in the studio?,\n",
    "Is the teacher in the temple?,\n",
    "Is the tourist in the theater?,\n",
    "Is the accountant in the beach?,\n",
    "Is the artist in the cinema?,\n",
    "Is the dentist in the hospital?,\n",
    "Is the nurse in the restaurant?,\n",
    "Is the writer in the station?,\n",
    "Is the barista in the mall?,\n",
    "Is the firefighter in the zoo?,\n",
    "Is the lawyer in the pharmacy?,\n",
    "Is the actor in the pharmacy?,\n",
    "Is the chef in the zoo?,\n",
    "Is the coach in the mall?,\n",
    "Is the cowboy in the station?,\n",
    "Is the dancer in the restaurant?,\n",
    "Is the detective in the hospital?,\n",
    "Is the doctor in the cinema?,\n",
    "Is the engineer in the beach?,\n",
    "Is the farmer in the theater?,\n",
    "Is the gardener in the temple?,\n",
    "Is the hippie in the studio?,\n",
    "Is the inventor in the stadium?,\n",
    "Is the judge in the school?,\n",
    "Is the maid in the prison?,\n",
    "Is the musician in the park?,\n",
    "Is the pilot in the office?,\n",
    "Is the pirate in the nightclub?,\n",
    "Is the queen in the museum?,\n",
    "Is the scientist in the library?,\n",
    "Is the sheriff in the laboratory?,\n",
    "Is the soldier in the kitchen?,\n",
    "Is the spy in the hotel?,\n",
    "Is the teacher in the hallway?,\n",
    "Is the tourist in the garage?,\n",
    "Is the accountant in the factory?,\n",
    "Is the artist in the clinic?,\n",
    "Is the dentist in the church?,\n",
    "Is the nurse in the castle?,\n",
    "Is the writer in the barn?,\n",
    "Is the barista in the bank?,\n",
    "Is the firefighter in the attic?,\n",
    "Is the lawyer in the airport?\n",
    "].\n",
    "\n",
    "\n",
    "\"\"\""
   ]
  },
  {
   "cell_type": "code",
   "execution_count": 2,
   "id": "2a64fcbc",
   "metadata": {},
   "outputs": [
    {
     "data": {
      "application/vnd.jupyter.widget-view+json": {
       "model_id": "19d070ea756c463087ba6cbfd96bd36c",
       "version_major": 2,
       "version_minor": 0
      },
      "text/plain": [
       "tokenizer_config.json:   0%|          | 0.00/2.51k [00:00<?, ?B/s]"
      ]
     },
     "metadata": {},
     "output_type": "display_data"
    },
    {
     "data": {
      "application/vnd.jupyter.widget-view+json": {
       "model_id": "5b11d9fb7a1c49fdb2b0be698094332b",
       "version_major": 2,
       "version_minor": 0
      },
      "text/plain": [
       "tokenization_internlm2_fast.py:   0%|          | 0.00/7.80k [00:00<?, ?B/s]"
      ]
     },
     "metadata": {},
     "output_type": "display_data"
    },
    {
     "data": {
      "application/vnd.jupyter.widget-view+json": {
       "model_id": "79bf1ab7ac7943698850aef08d844740",
       "version_major": 2,
       "version_minor": 0
      },
      "text/plain": [
       "tokenization_internlm2.py:   0%|          | 0.00/8.81k [00:00<?, ?B/s]"
      ]
     },
     "metadata": {},
     "output_type": "display_data"
    },
    {
     "name": "stderr",
     "output_type": "stream",
     "text": [
      "A new version of the following files was downloaded from https://huggingface.co/internlm/internlm2_5-7b:\n",
      "- tokenization_internlm2.py\n",
      ". Make sure to double-check they do not contain any added malicious code. To avoid downloading new versions of the code file, you can pin a revision.\n",
      "A new version of the following files was downloaded from https://huggingface.co/internlm/internlm2_5-7b:\n",
      "- tokenization_internlm2_fast.py\n",
      "- tokenization_internlm2.py\n",
      ". Make sure to double-check they do not contain any added malicious code. To avoid downloading new versions of the code file, you can pin a revision.\n"
     ]
    },
    {
     "data": {
      "application/vnd.jupyter.widget-view+json": {
       "model_id": "6bdc5082528f46d9ad8d3176aff46f89",
       "version_major": 2,
       "version_minor": 0
      },
      "text/plain": [
       "tokenizer.model:   0%|          | 0.00/1.48M [00:00<?, ?B/s]"
      ]
     },
     "metadata": {},
     "output_type": "display_data"
    },
    {
     "data": {
      "application/vnd.jupyter.widget-view+json": {
       "model_id": "c733614c22dc41bda48aeae1ff12cb9a",
       "version_major": 2,
       "version_minor": 0
      },
      "text/plain": [
       "special_tokens_map.json:   0%|          | 0.00/713 [00:00<?, ?B/s]"
      ]
     },
     "metadata": {},
     "output_type": "display_data"
    },
    {
     "data": {
      "application/vnd.jupyter.widget-view+json": {
       "model_id": "b70630215ad7456bbc93ea6ae0b4b4f6",
       "version_major": 2,
       "version_minor": 0
      },
      "text/plain": [
       "tokenizer.json:   0%|          | 0.00/5.75M [00:00<?, ?B/s]"
      ]
     },
     "metadata": {},
     "output_type": "display_data"
    },
    {
     "data": {
      "application/vnd.jupyter.widget-view+json": {
       "model_id": "e3bc93578ab44dd8abae8457f13d4092",
       "version_major": 2,
       "version_minor": 0
      },
      "text/plain": [
       "config.json:   0%|          | 0.00/895 [00:00<?, ?B/s]"
      ]
     },
     "metadata": {},
     "output_type": "display_data"
    },
    {
     "data": {
      "application/vnd.jupyter.widget-view+json": {
       "model_id": "50b7757bd74a459e94487fcb0d1553e5",
       "version_major": 2,
       "version_minor": 0
      },
      "text/plain": [
       "configuration_internlm2.py:   0%|          | 0.00/8.84k [00:00<?, ?B/s]"
      ]
     },
     "metadata": {},
     "output_type": "display_data"
    },
    {
     "name": "stderr",
     "output_type": "stream",
     "text": [
      "A new version of the following files was downloaded from https://huggingface.co/internlm/internlm2_5-7b:\n",
      "- configuration_internlm2.py\n",
      ". Make sure to double-check they do not contain any added malicious code. To avoid downloading new versions of the code file, you can pin a revision.\n"
     ]
    },
    {
     "data": {
      "application/vnd.jupyter.widget-view+json": {
       "model_id": "0e507bf5e5ed4edea82adcc6c16f318d",
       "version_major": 2,
       "version_minor": 0
      },
      "text/plain": [
       "modeling_internlm2.py:   0%|          | 0.00/81.0k [00:00<?, ?B/s]"
      ]
     },
     "metadata": {},
     "output_type": "display_data"
    },
    {
     "name": "stderr",
     "output_type": "stream",
     "text": [
      "A new version of the following files was downloaded from https://huggingface.co/internlm/internlm2_5-7b:\n",
      "- modeling_internlm2.py\n",
      ". Make sure to double-check they do not contain any added malicious code. To avoid downloading new versions of the code file, you can pin a revision.\n"
     ]
    },
    {
     "data": {
      "application/vnd.jupyter.widget-view+json": {
       "model_id": "79e28d76dcae4ccf802fa4a0d5d82cf6",
       "version_major": 2,
       "version_minor": 0
      },
      "text/plain": [
       "model.safetensors.index.json:   0%|          | 0.00/18.2k [00:00<?, ?B/s]"
      ]
     },
     "metadata": {},
     "output_type": "display_data"
    },
    {
     "data": {
      "application/vnd.jupyter.widget-view+json": {
       "model_id": "302077a0767648949dace9eec655b52f",
       "version_major": 2,
       "version_minor": 0
      },
      "text/plain": [
       "Downloading shards:   0%|          | 0/2 [00:00<?, ?it/s]"
      ]
     },
     "metadata": {},
     "output_type": "display_data"
    },
    {
     "data": {
      "application/vnd.jupyter.widget-view+json": {
       "model_id": "7370969004474eb4988efde0a204dcfb",
       "version_major": 2,
       "version_minor": 0
      },
      "text/plain": [
       "model-00001-of-00002.safetensors:   0%|          | 0.00/9.97G [00:00<?, ?B/s]"
      ]
     },
     "metadata": {},
     "output_type": "display_data"
    },
    {
     "data": {
      "application/vnd.jupyter.widget-view+json": {
       "model_id": "8d6a9860928647de91c309bae41f89ac",
       "version_major": 2,
       "version_minor": 0
      },
      "text/plain": [
       "model-00002-of-00002.safetensors:   0%|          | 0.00/5.51G [00:00<?, ?B/s]"
      ]
     },
     "metadata": {},
     "output_type": "display_data"
    },
    {
     "data": {
      "application/vnd.jupyter.widget-view+json": {
       "model_id": "dafe6694983940e68bc3792fa128bfdf",
       "version_major": 2,
       "version_minor": 0
      },
      "text/plain": [
       "Loading checkpoint shards:   0%|          | 0/2 [00:00<?, ?it/s]"
      ]
     },
     "metadata": {},
     "output_type": "display_data"
    },
    {
     "data": {
      "application/vnd.jupyter.widget-view+json": {
       "model_id": "fc9d4e6029ad4dbdb5ee3a0561357202",
       "version_major": 2,
       "version_minor": 0
      },
      "text/plain": [
       "generation_config.json:   0%|          | 0.00/132 [00:00<?, ?B/s]"
      ]
     },
     "metadata": {},
     "output_type": "display_data"
    },
    {
     "name": "stdout",
     "output_type": "stream",
     "text": [
      "\n",
      "Task: Given a study list and a question list, determine if each person-location pair in the questions exists in the study list. If the pair is found, respond with \"yes\"; otherwise, respond with \"no.\" Present your answers in a CSV format.\n",
      "\n",
      "Inputs\n",
      "Study List: A list of sentences in the format \"The person is in the location.\"\n",
      "Question List: A list of questions in the format \"Is the person in the location?\"\n",
      "\n",
      "Steps to Answer:\n",
      "1: Review each question in the question list.\n",
      "2: Check if the exact \"person is in the location\" pair from each question is present in the study list.\n",
      "3: If the pair is found in the study list, the answer is \"yes.\"\n",
      "4: If the pair is not found, the answer is \"no.\"\n",
      "5: Present the results in CSV format, with each line containing the order of the question and the corresponding \"yes\" or \"no\" answer.\n",
      "\n",
      "Study list is [  \n",
      "The actor is in the airport,\n",
      "The chef is in the attic,\n",
      "The coach is in the bank,\n",
      "The cowboy is in the barn,\n",
      "The dancer is in the castle,\n",
      "The detective is in the church,\n",
      "The doctor is in the clinic,\n",
      "The engineer is in the factory,\n",
      "The farmer is in the garage,\n",
      "The gardener is in the hallway,\n",
      "The hippie is in the hotel,\n",
      "The inventor is in the kitchen,\n",
      "The judge is in the laboratory,\n",
      "The maid is in the library,\n",
      "The musician is in the museum,\n",
      "The pilot is in the nightclub,\n",
      "The pirate is in the office,\n",
      "The queen is in the park,\n",
      "The scientist is in the prison,\n",
      "The sheriff is in the school,\n",
      "The soldier is in the stadium,\n",
      "The spy is in the studio,\n",
      "The teacher is in the temple,\n",
      "The tourist is in the theater,\n",
      "The accountant is in the beach,\n",
      "The artist is in the cinema,\n",
      "The dentist is in the hospital,\n",
      "The nurse is in the restaurant,\n",
      "The writer is in the station,\n",
      "The barista is in the mall,\n",
      "The firefighter is in the zoo,\n",
      "The lawyer is in the pharmacy\n",
      "]. \n",
      "    \n",
      "Question list is [\n",
      "Is the actor in the airport?,\n",
      "Is the chef in the attic?,\n",
      "Is the coach in the bank?,\n",
      "Is the cowboy in the barn?,\n",
      "Is the dancer in the castle?,\n",
      "Is the detective in the church?,\n",
      "Is the doctor in the clinic?,\n",
      "Is the engineer in the factory?,\n",
      "Is the farmer in the garage?,\n",
      "Is the gardener in the hallway?,\n",
      "Is the hippie in the hotel?,\n",
      "Is the inventor in the kitchen?,\n",
      "Is the judge in the laboratory?,\n",
      "Is the maid in the library?,\n",
      "Is the musician in the museum?,\n",
      "Is the pilot in the nightclub?,\n",
      "Is the pirate in the office?,\n",
      "Is the queen in the park?,\n",
      "Is the scientist in the prison?,\n",
      "Is the sheriff in the school?,\n",
      "Is the soldier in the stadium?,\n",
      "Is the spy in the studio?,\n",
      "Is the teacher in the temple?,\n",
      "Is the tourist in the theater?,\n",
      "Is the accountant in the beach?,\n",
      "Is the artist in the cinema?,\n",
      "Is the dentist in the hospital?,\n",
      "Is the nurse in the restaurant?,\n",
      "Is the writer in the station?,\n",
      "Is the barista in the mall?,\n",
      "Is the firefighter in the zoo?,\n",
      "Is the lawyer in the pharmacy?,\n",
      "Is the actor in the pharmacy?,\n",
      "Is the chef in the zoo?,\n",
      "Is the coach in the mall?,\n",
      "Is the cowboy in the station?,\n",
      "Is the dancer in the restaurant?,\n",
      "Is the detective in the hospital?,\n",
      "Is the doctor in the cinema?,\n",
      "Is the engineer in the beach?,\n",
      "Is the farmer in the theater?,\n",
      "Is the gardener in the temple?,\n",
      "Is the hippie in the studio?,\n",
      "Is the inventor in the stadium?,\n",
      "Is the judge in the school?,\n",
      "Is the maid in the prison?,\n",
      "Is the musician in the park?,\n",
      "Is the pilot in the office?,\n",
      "Is the pirate in the nightclub?,\n",
      "Is the queen in the museum?,\n",
      "Is the scientist in the library?,\n",
      "Is the sheriff in the laboratory?,\n",
      "Is the soldier in the kitchen?,\n",
      "Is the spy in the hotel?,\n",
      "Is the teacher in the hallway?,\n",
      "Is the tourist in the garage?,\n",
      "Is the accountant in the factory?,\n",
      "Is the artist in the clinic?,\n",
      "Is the dentist in the church?,\n",
      "Is the nurse in the castle?,\n",
      "Is the writer in the barn?,\n",
      "Is the barista in the bank?,\n",
      "Is the firefighter in the attic?,\n",
      "Is the lawyer in the airport?\n",
      "].\n",
      "\n",
      "\n",
      "Answer:\n",
      "1. Is the actor in the airport?, yes\n",
      "2. Is the chef in the attic?, yes\n",
      "3. Is the coach in the bank?, yes\n",
      "4. Is the cowboy in the barn?, yes\n",
      "5. Is the dancer in the castle?, yes\n",
      "6. Is the detective in the church?, yes\n",
      "7. Is the doctor in the clinic?, yes\n",
      "8. Is the engineer in the factory?, yes\n",
      "9. Is the farmer in the garage?, yes\n",
      "10. Is the gardener in the hallway?, yes\n",
      "11. Is the hippie in the hotel?, yes\n",
      "12. Is the inventor in the kitchen?, yes\n",
      "13. Is the judge in the laboratory?, yes\n",
      "14. Is the maid in the library?, yes\n",
      "15. Is the musician in the museum?, yes\n",
      "16. Is the pilot in the nightclub?, yes\n",
      "17. Is the pirate in the office?, yes\n",
      "18. Is the queen in the park?, yes\n",
      "19. Is the scientist in the prison?, yes\n",
      "20. Is the sheriff in the school?, yes\n",
      "21. Is the soldier in the stadium?, yes\n",
      "22. Is the spy in the studio?, yes\n",
      "23. Is the teacher in the temple?, yes\n",
      "24. Is the tourist in the theater?, yes\n",
      "25. Is the accountant in the beach?, yes\n",
      "26. Is the artist in the cinema?, yes\n",
      "27. Is the dentist in the hospital?, yes\n",
      "28. Is the nurse in the restaurant?, yes\n",
      "29. Is the writer in the station?, yes\n",
      "30. Is the barista in the mall?, yes\n",
      "31. Is the firefighter in the zoo?, yes\n",
      "32. Is the lawyer in the pharmacy?, yes\n",
      "33. Is the actor in the pharmacy?, no\n",
      "34. Is the chef in the zoo?, no\n",
      "35. Is the coach in the mall?, no\n",
      "36. Is the cowboy in the station?, no\n",
      "37. Is the dancer in the restaurant?, no\n",
      "38. Is the detective in the hospital?, no\n",
      "39. Is the doctor in the cinema?, no\n",
      "40. Is the engineer in the beach?, no\n",
      "41. Is the farmer in the theater?, no\n",
      "42. Is the gardener in the temple?, no\n",
      "43. Is the hippie in the studio?, no\n",
      "44. Is the inventor in the stadium?, no\n",
      "45. Is the judge in the school?, no\n",
      "46. Is the maid in the prison?, no\n",
      "47. Is the musician in the park?, no\n",
      "48. Is the pilot in the office?, no\n",
      "49. Is the pirate in the nightclub?, no\n",
      "50. Is the queen in the museum?, no\n",
      "51. Is the scientist in the library?, no\n",
      "52. Is the sheriff in the laboratory?, no\n",
      "53. Is the soldier in the kitchen?, no\n",
      "54. Is the spy in the hotel?, no\n",
      "55. Is the teacher in the hallway?, no\n",
      "56. Is the tourist in the garage?, no\n",
      "57. Is the accountant in the factory?, no\n",
      "58. Is the artist in the clinic?, no\n",
      "59. Is the dentist in the church?, no\n",
      "60. Is the nurse in the castle?, no\n",
      "61. Is the writer in the barn?, no\n",
      "62. Is the barista in the bank?, no\n",
      "63. Is the firefighter in the attic?, no\n",
      "64. Is the lawyer in the airport?, no\n"
     ]
    }
   ],
   "source": [
    "import torch\n",
    "from transformers import AutoTokenizer, AutoModelForCausalLM\n",
    "\n",
    "tokenizer = AutoTokenizer.from_pretrained(\"internlm/internlm2_5-7b\", trust_remote_code=True)\n",
    "model = AutoModelForCausalLM.from_pretrained(\"internlm/internlm2_5-7b\", torch_dtype=torch.float16, trust_remote_code=True).cuda()\n",
    "model = model.eval()\n",
    "\n",
    "\n",
    "inputs = tokenizer(prompt, return_tensors=\"pt\")\n",
    "\n",
    "\n",
    "for k,v in inputs.items():\n",
    "    inputs[k] = v.cuda()\n",
    "gen_kwargs = {\"max_length\": 5000\n",
    "            #   \"top_p\": 0.8, \n",
    "            #   \"temperature\": 0.8, \n",
    "            #   \"do_sample\": True, \n",
    "            #   \"repetition_penalty\": 1.0\n",
    "            }\n",
    "\n",
    "output = model.generate(**inputs, **gen_kwargs)\n",
    "output = tokenizer.decode(output[0].tolist(), skip_special_tokens=True)\n",
    "print(output)\n",
    "\n",
    "# A beautiful flowering shrub with clusters of pinkish white flowers in the summer. The foliage is glossy green with a hint of bronze. A great plant for small gardens or as a pot plant. Can be grown as a hedge or as a single specimen plant.\n"
   ]
  },
  {
   "cell_type": "code",
   "execution_count": null,
   "id": "f840cedc",
   "metadata": {},
   "outputs": [],
   "source": []
  }
 ],
 "metadata": {
  "kernelspec": {
   "display_name": "Python 3",
   "language": "python",
   "name": "python3"
  },
  "language_info": {
   "codemirror_mode": {
    "name": "ipython",
    "version": 3
   },
   "file_extension": ".py",
   "mimetype": "text/x-python",
   "name": "python",
   "nbconvert_exporter": "python",
   "pygments_lexer": "ipython3",
   "version": "3.10.12"
  }
 },
 "nbformat": 4,
 "nbformat_minor": 5
}
