{
 "cells": [
  {
   "cell_type": "code",
   "execution_count": null,
   "id": "80d9386b",
   "metadata": {},
   "outputs": [],
   "source": [
    "# Install transformers from source - only needed for versions <= v4.34\n",
    "# pip install git+https://github.com/huggingface/transformers.git\n",
    "# pip install accelerate\n",
    "\n",
    "import torch\n",
    "from transformers import pipeline\n",
    "\n",
    "pipe = pipeline(\"text-generation\", model=\"HuggingFaceH4/zephyr-7b-beta\", torch_dtype=torch.bfloat16, device_map=\"auto\")\n",
    "\n",
    "\n",
    "# <|system|>\n",
    "# You are a friendly chatbot who always responds in the style of a pirate.</s>\n",
    "# <|user|>\n",
    "# How many helicopters can a human eat in one sitting?</s>\n",
    "# <|assistant|>\n",
    "# Ah, me hearty matey! But yer question be a puzzler! A human cannot eat a helicopter in one sitting, as helicopters are not edible. They be made of metal, plastic, and other materials, not food!\n"
   ]
  },
  {
   "cell_type": "code",
   "execution_count": null,
   "id": "d67965f2",
   "metadata": {},
   "outputs": [],
   "source": [
    "change = \"\"\"\n",
    "This is the prompt I gave to GPT-4. I would like you to modify it to make it compatible with your own prompt requirements for zephyr. Please provide me with the revised prompt. \n",
    "\n",
    "The GPT prompt is: Goal: Memorizing the study list, where all sentences are in the format of \"The person is in the location\", answer all 64 questions in the questions list (questions are in the form of \"Is the person in the location?\") based on the study list. If the person-location pair is found in the study list, answer \"yes\"; otherwise, answer \"no.\"\n",
    "\n",
    "Input: The study list and question list. Study list is [  \n",
    "\"The actor is in the airport.\", \"The farmer is in the garage.\", \"The pirate is in the office.\", \"The chef is in the attic.\", \"The gardener is in the hallway.\", \"The queen is in the park.\", \"The coach is in the bank.\", \"The hippie is in the hotel.\", \"The scientist is in the prison.\", \"The cowboy is in the barn.\", \"The inventor is in the kitchen.\", \"The sheriff is in the school.\", \"The dancer is in the castle.\", \"The judge is in the laboratory.\", \"The soldier is in the stadium.\", \"The detective is in the church.\", \n",
    "\"The maid is in the library.\", \"The maid is in the studio.\", \"The spy is in the clinic.\", \"The spy is in the museum.\", \"The doctor is in the temple.\", \"The doctor is in the factory.\", \"The musician is in the nightclub.\", \"The musician is in the theater.\", \"The teacher is in the library.\", \"The teacher is in the studio.\", \"The engineer is in the clinic.\", \"The engineer is in the museum.\", \"The pilot is in the temple.\", \"The pilot is in the factory.\", \"The tourist is in the nightclub.\", \"The tourist is in the theater.\"\n",
    "]. \n",
    "    \n",
    "\n",
    "Question list is [\n",
    "\"Is the actor in the airport?\", \"Is the farmer in the garage?\", \"Is the pirate in the office?\", \"Is the chef in the attic?\", \"Is the gardener in the hallway?\", \"Is the queen in the park?\", \"Is the coach in the bank?\", \"Is the hippie in the hotel?\",    \"Is the scientist in the prison?\", \"Is the cowboy in the barn?\", \"Is the inventor in the kitchen?\", \"Is the sheriff in the school?\", \"Is the dancer in the castle?\", \"Is the judge in the laboratory?\", \"Is the soldier in the stadium?\", \"Is the detective in the church?\", \"Is the actor in the prison?\", \"Is the farmer in the attic?\", \"Is the pirate in the garage?\", \"Is the gardener in the school?\", \"Is the coach in the hallway?\", \"Is the inventor in the stadium?\", \"Is the dancer in the church?\", \"Is the judge in the kitchen?\", \"Is the hippie in the castle?\", \"Is the scientist in the barn?\", \"Is the soldier in the hotel?\", \"Is the detective in the airport?\", \"Is the cowboy in the laboratory?\", \"Is the queen in the bank?\", \"Is the sheriff in the office?\", \"Is the chef in the park?\", \n",
    "\"Is the maid in the library?\", \"Is the spy in the clinic?\", \"Is the doctor in the temple?\", \"Is the musician in the nightclub?\", \"Is the teacher in the studio?\", \"Is the engineer in the museum?\", \"Is the pilot in the factory?\", \"Is the tourist in the theater?\", \"Is the maid in the studio?\", \"Is the spy in the museum?\", \"Is the doctor in the factory?\", \"Is the musician in the theater?\", \"Is the teacher in the library?\", \"Is the engineer in the clinic?\", \"Is the pilot in the temple?\", \"Is the tourist in the nightclub?\", \"Is the maid in the nightclub?\", \"Is the spy in the library?\", \"Is the doctor in the clinic?\", \"Is the musician in the factory?\", \"Is the teacher in the theater?\", \"Is the engineer in the studio?\", \"Is the pilot in the museum?\", \"Is the tourist in the temple?\", \"Is the maid in the theater?\", \"Is the spy in the studio?\", \"Is the doctor in the museum?\", \"Is the musician in the temple?\", \"Is the teacher in the nightclub?\", \"Is the engineer in the library?\", \"Is the pilot in the clinic?\", \"Is the tourist in the factory?\"\n",
    "].\n",
    "\n",
    "\n",
    "Output: The results of the analysis need to be in CSV (comma-separated values). \n",
    "Present the results inside a code box.  \n",
    "The code box should be labeled answers_csv \n",
    "Each line of the output should contain the order of each question from the question list and the corresponding answer.\n",
    "\n",
    "Analysis: \n",
    "Here is a template describing how to answer the questions list\n",
    "- 1: Yes\n",
    "- 2: No \n",
    "\n",
    "Please provide me with the revised prompt.\n",
    "\"\"\"\n"
   ]
  },
  {
   "cell_type": "code",
   "execution_count": null,
   "id": "0acdd857",
   "metadata": {},
   "outputs": [],
   "source": []
  },
  {
   "cell_type": "code",
   "execution_count": null,
   "id": "5c40fbc3",
   "metadata": {},
   "outputs": [],
   "source": [
    "# We use the tokenizer's chat template to format each message - see https://huggingface.co/docs/transformers/main/en/chat_templating\n",
    "messages = [\n",
    "    {\n",
    "        \"role\": \"system\",\n",
    "        \"content\": \"You are a friendly chatbot\",\n",
    "    },\n",
    "    {\"role\": \"user\", \"content\": change},\n",
    "]\n",
    "prompt = pipe.tokenizer.apply_chat_template(messages, tokenize=False, add_generation_prompt=True)\n",
    "outputs = pipe(prompt, max_new_tokens=256, do_sample=True, temperature=0.7, top_k=50, top_p=0.95)\n",
    "print(outputs[0][\"generated_text\"])"
   ]
  },
  {
   "cell_type": "code",
   "execution_count": null,
   "id": "1747e99d",
   "metadata": {},
   "outputs": [],
   "source": []
  }
 ],
 "metadata": {
  "language_info": {
   "name": "python"
  }
 },
 "nbformat": 4,
 "nbformat_minor": 5
}
