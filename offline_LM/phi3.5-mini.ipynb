{
 "cells": [
  {
   "cell_type": "code",
   "execution_count": 1,
   "id": "b76d3f1c",
   "metadata": {},
   "outputs": [
    {
     "name": "stderr",
     "output_type": "stream",
     "text": [
      "2025-05-05 17:26:12.463014: E external/local_xla/xla/stream_executor/cuda/cuda_fft.cc:485] Unable to register cuFFT factory: Attempting to register factory for plugin cuFFT when one has already been registered\n",
      "2025-05-05 17:26:12.476284: E external/local_xla/xla/stream_executor/cuda/cuda_dnn.cc:8454] Unable to register cuDNN factory: Attempting to register factory for plugin cuDNN when one has already been registered\n",
      "2025-05-05 17:26:12.480361: E external/local_xla/xla/stream_executor/cuda/cuda_blas.cc:1452] Unable to register cuBLAS factory: Attempting to register factory for plugin cuBLAS when one has already been registered\n",
      "2025-05-05 17:26:12.490399: I tensorflow/core/platform/cpu_feature_guard.cc:210] This TensorFlow binary is optimized to use available CPU instructions in performance-critical operations.\n",
      "To enable the following instructions: AVX2 FMA, in other operations, rebuild TensorFlow with the appropriate compiler flags.\n",
      "2025-05-05 17:26:13.132596: W tensorflow/compiler/tf2tensorrt/utils/py_utils.cc:38] TF-TRT Warning: Could not find TensorRT\n"
     ]
    }
   ],
   "source": [
    "import torch\n",
    "from transformers import AutoModelForCausalLM, AutoTokenizer, pipeline\n",
    "\n",
    "prompt = \"\"\"\n",
    "Task: Given a study list and a question list, determine if each person-location pair in the questions exists in the study list. If the pair is found, respond with \"yes\"; otherwise, respond with \"no.\" Present your answers in a CSV format.\n",
    "\n",
    "Inputs\n",
    "Study List: A list of sentences in the format \"The person is in the location.\"\n",
    "Question List: A list of questions in the format \"Is the person in the location?\"\n",
    "\n",
    "Steps to Answer:\n",
    "1: Review each question in the question list.\n",
    "2: Check if the exact \"person is in the location\" pair from each question is present in the study list.\n",
    "3: If the pair is found in the study list, the answer is \"yes.\"\n",
    "4: If the pair is not found, the answer is \"no.\"\n",
    "5: Present the results in CSV format, with each line containing the order of the question and the corresponding \"yes\" or \"no\" answer.\n",
    "\n",
    "Study list is [  \n",
    "The actor is in the airport,\n",
    "The chef is in the attic,\n",
    "The coach is in the bank,\n",
    "The cowboy is in the barn,\n",
    "The dancer is in the castle,\n",
    "The detective is in the church,\n",
    "The doctor is in the clinic,\n",
    "The engineer is in the factory,\n",
    "The farmer is in the garage,\n",
    "The gardener is in the hallway,\n",
    "The hippie is in the hotel,\n",
    "The inventor is in the kitchen,\n",
    "The judge is in the laboratory,\n",
    "The maid is in the library,\n",
    "The musician is in the museum,\n",
    "The pilot is in the nightclub,\n",
    "The pirate is in the office,\n",
    "The queen is in the park,\n",
    "The scientist is in the prison,\n",
    "The sheriff is in the school,\n",
    "The soldier is in the stadium,\n",
    "The spy is in the studio,\n",
    "The teacher is in the temple,\n",
    "The tourist is in the theater,\n",
    "The accountant is in the beach,\n",
    "The artist is in the cinema,\n",
    "The dentist is in the hospital,\n",
    "The nurse is in the restaurant,\n",
    "The writer is in the station,\n",
    "The barista is in the mall,\n",
    "The firefighter is in the zoo,\n",
    "The lawyer is in the pharmacy\n",
    "]. \n",
    "    \n",
    "Question list is [\n",
    "Is the actor in the airport?,\n",
    "Is the chef in the attic?,\n",
    "Is the coach in the bank?,\n",
    "Is the cowboy in the barn?,\n",
    "Is the dancer in the castle?,\n",
    "Is the detective in the church?,\n",
    "Is the doctor in the clinic?,\n",
    "Is the engineer in the factory?,\n",
    "Is the farmer in the garage?,\n",
    "Is the gardener in the hallway?,\n",
    "Is the hippie in the hotel?,\n",
    "Is the inventor in the kitchen?,\n",
    "Is the judge in the laboratory?,\n",
    "Is the maid in the library?,\n",
    "Is the musician in the museum?,\n",
    "Is the pilot in the nightclub?,\n",
    "Is the pirate in the office?,\n",
    "Is the queen in the park?,\n",
    "Is the scientist in the prison?,\n",
    "Is the sheriff in the school?,\n",
    "Is the soldier in the stadium?,\n",
    "Is the spy in the studio?,\n",
    "Is the teacher in the temple?,\n",
    "Is the tourist in the theater?,\n",
    "Is the accountant in the beach?,\n",
    "Is the artist in the cinema?,\n",
    "Is the dentist in the hospital?,\n",
    "Is the nurse in the restaurant?,\n",
    "Is the writer in the station?,\n",
    "Is the barista in the mall?,\n",
    "Is the firefighter in the zoo?,\n",
    "Is the lawyer in the pharmacy?,\n",
    "Is the actor in the pharmacy?,\n",
    "Is the chef in the zoo?,\n",
    "Is the coach in the mall?,\n",
    "Is the cowboy in the station?,\n",
    "Is the dancer in the restaurant?,\n",
    "Is the detective in the hospital?,\n",
    "Is the doctor in the cinema?,\n",
    "Is the engineer in the beach?,\n",
    "Is the farmer in the theater?,\n",
    "Is the gardener in the temple?,\n",
    "Is the hippie in the studio?,\n",
    "Is the inventor in the stadium?,\n",
    "Is the judge in the school?,\n",
    "Is the maid in the prison?,\n",
    "Is the musician in the park?,\n",
    "Is the pilot in the office?,\n",
    "Is the pirate in the nightclub?,\n",
    "Is the queen in the museum?,\n",
    "Is the scientist in the library?,\n",
    "Is the sheriff in the laboratory?,\n",
    "Is the soldier in the kitchen?,\n",
    "Is the spy in the hotel?,\n",
    "Is the teacher in the hallway?,\n",
    "Is the tourist in the garage?,\n",
    "Is the accountant in the factory?,\n",
    "Is the artist in the clinic?,\n",
    "Is the dentist in the church?,\n",
    "Is the nurse in the castle?,\n",
    "Is the writer in the barn?,\n",
    "Is the barista in the bank?,\n",
    "Is the firefighter in the attic?,\n",
    "Is the lawyer in the airport?\n",
    "].\n",
    "\n",
    "\n",
    "\"\"\""
   ]
  },
  {
   "cell_type": "code",
   "execution_count": 2,
   "id": "19099b55",
   "metadata": {},
   "outputs": [
    {
     "data": {
      "application/vnd.jupyter.widget-view+json": {
       "model_id": "e929b43e687b49eda43b423e4166e7a3",
       "version_major": 2,
       "version_minor": 0
      },
      "text/plain": [
       "config.json:   0%|          | 0.00/3.45k [00:00<?, ?B/s]"
      ]
     },
     "metadata": {},
     "output_type": "display_data"
    },
    {
     "data": {
      "application/vnd.jupyter.widget-view+json": {
       "model_id": "dc8c40df12584467832530cafded59f2",
       "version_major": 2,
       "version_minor": 0
      },
      "text/plain": [
       "configuration_phi3.py:   0%|          | 0.00/11.2k [00:00<?, ?B/s]"
      ]
     },
     "metadata": {},
     "output_type": "display_data"
    },
    {
     "name": "stderr",
     "output_type": "stream",
     "text": [
      "A new version of the following files was downloaded from https://huggingface.co/microsoft/Phi-3.5-mini-instruct:\n",
      "- configuration_phi3.py\n",
      ". Make sure to double-check they do not contain any added malicious code. To avoid downloading new versions of the code file, you can pin a revision.\n"
     ]
    },
    {
     "data": {
      "application/vnd.jupyter.widget-view+json": {
       "model_id": "3f04606d97d74a618f4c2fa74b445065",
       "version_major": 2,
       "version_minor": 0
      },
      "text/plain": [
       "modeling_phi3.py:   0%|          | 0.00/73.8k [00:00<?, ?B/s]"
      ]
     },
     "metadata": {},
     "output_type": "display_data"
    },
    {
     "name": "stderr",
     "output_type": "stream",
     "text": [
      "A new version of the following files was downloaded from https://huggingface.co/microsoft/Phi-3.5-mini-instruct:\n",
      "- modeling_phi3.py\n",
      ". Make sure to double-check they do not contain any added malicious code. To avoid downloading new versions of the code file, you can pin a revision.\n",
      "`flash-attention` package not found, consider installing for better performance: No module named 'flash_attn'.\n",
      "Current `flash-attention` does not support `window_size`. Either upgrade or use `attn_implementation='eager'`.\n"
     ]
    },
    {
     "data": {
      "application/vnd.jupyter.widget-view+json": {
       "model_id": "90c42f81b5fc4b448047621b4c801bc6",
       "version_major": 2,
       "version_minor": 0
      },
      "text/plain": [
       "model.safetensors.index.json:   0%|          | 0.00/16.3k [00:00<?, ?B/s]"
      ]
     },
     "metadata": {},
     "output_type": "display_data"
    },
    {
     "data": {
      "application/vnd.jupyter.widget-view+json": {
       "model_id": "c7755ecb6bef40d4be22c0a94caec8dc",
       "version_major": 2,
       "version_minor": 0
      },
      "text/plain": [
       "Downloading shards:   0%|          | 0/2 [00:00<?, ?it/s]"
      ]
     },
     "metadata": {},
     "output_type": "display_data"
    },
    {
     "data": {
      "application/vnd.jupyter.widget-view+json": {
       "model_id": "3f0d7ca3c702445a9422baf98fc97c28",
       "version_major": 2,
       "version_minor": 0
      },
      "text/plain": [
       "model-00001-of-00002.safetensors:   0%|          | 0.00/4.97G [00:00<?, ?B/s]"
      ]
     },
     "metadata": {},
     "output_type": "display_data"
    },
    {
     "data": {
      "application/vnd.jupyter.widget-view+json": {
       "model_id": "050f41a706664b11abe626a7dd2db64f",
       "version_major": 2,
       "version_minor": 0
      },
      "text/plain": [
       "model-00002-of-00002.safetensors:   0%|          | 0.00/2.67G [00:00<?, ?B/s]"
      ]
     },
     "metadata": {},
     "output_type": "display_data"
    },
    {
     "data": {
      "application/vnd.jupyter.widget-view+json": {
       "model_id": "b96c405c3da744fe8cf5fbb02e96e95d",
       "version_major": 2,
       "version_minor": 0
      },
      "text/plain": [
       "Loading checkpoint shards:   0%|          | 0/2 [00:00<?, ?it/s]"
      ]
     },
     "metadata": {},
     "output_type": "display_data"
    },
    {
     "data": {
      "application/vnd.jupyter.widget-view+json": {
       "model_id": "42d2db73eb2e48d1974ad79f3d987447",
       "version_major": 2,
       "version_minor": 0
      },
      "text/plain": [
       "generation_config.json:   0%|          | 0.00/195 [00:00<?, ?B/s]"
      ]
     },
     "metadata": {},
     "output_type": "display_data"
    },
    {
     "data": {
      "application/vnd.jupyter.widget-view+json": {
       "model_id": "2c2e5aecc24247daa2b34bd779d3892a",
       "version_major": 2,
       "version_minor": 0
      },
      "text/plain": [
       "tokenizer_config.json:   0%|          | 0.00/3.98k [00:00<?, ?B/s]"
      ]
     },
     "metadata": {},
     "output_type": "display_data"
    },
    {
     "data": {
      "application/vnd.jupyter.widget-view+json": {
       "model_id": "5ea46cf6645f4dc983bd5d768daf8a01",
       "version_major": 2,
       "version_minor": 0
      },
      "text/plain": [
       "tokenizer.model:   0%|          | 0.00/500k [00:00<?, ?B/s]"
      ]
     },
     "metadata": {},
     "output_type": "display_data"
    },
    {
     "data": {
      "application/vnd.jupyter.widget-view+json": {
       "model_id": "fe4b2428885044ab85638df7c6f4b570",
       "version_major": 2,
       "version_minor": 0
      },
      "text/plain": [
       "tokenizer.json:   0%|          | 0.00/1.84M [00:00<?, ?B/s]"
      ]
     },
     "metadata": {},
     "output_type": "display_data"
    },
    {
     "data": {
      "application/vnd.jupyter.widget-view+json": {
       "model_id": "3e527003453d4f8b9a68bbe3e7f90153",
       "version_major": 2,
       "version_minor": 0
      },
      "text/plain": [
       "added_tokens.json:   0%|          | 0.00/306 [00:00<?, ?B/s]"
      ]
     },
     "metadata": {},
     "output_type": "display_data"
    },
    {
     "data": {
      "application/vnd.jupyter.widget-view+json": {
       "model_id": "2bcf4cc764c24b869b0b986acdb625d8",
       "version_major": 2,
       "version_minor": 0
      },
      "text/plain": [
       "special_tokens_map.json:   0%|          | 0.00/665 [00:00<?, ?B/s]"
      ]
     },
     "metadata": {},
     "output_type": "display_data"
    },
    {
     "name": "stderr",
     "output_type": "stream",
     "text": [
      "The `seen_tokens` attribute is deprecated and will be removed in v4.41. Use the `cache_position` model input instead.\n",
      "`get_max_cache()` is deprecated for all Cache classes. Use `get_max_cache_shape()` instead. Calling `get_max_cache()` will raise error from v4.48\n",
      "You are not running the flash-attention implementation, expect numerical differences.\n"
     ]
    },
    {
     "name": "stdout",
     "output_type": "stream",
     "text": [
      "[{'role': 'system', 'content': 'You are a helpful AI assistant.'}, {'role': 'user', 'content': '\\nTask: Given a study list and a question list, determine if each person-location pair in the questions exists in the study list. If the pair is found, respond with \"yes\"; otherwise, respond with \"no.\" Present your answers in a CSV format.\\n\\nInputs\\nStudy List: A list of sentences in the format \"The person is in the location.\"\\nQuestion List: A list of questions in the format \"Is the person in the location?\"\\n\\nSteps to Answer:\\n1: Review each question in the question list.\\n2: Check if the exact \"person is in the location\" pair from each question is present in the study list.\\n3: If the pair is found in the study list, the answer is \"yes.\"\\n4: If the pair is not found, the answer is \"no.\"\\n5: Present the results in CSV format, with each line containing the order of the question and the corresponding \"yes\" or \"no\" answer.\\n\\nStudy list is [  \\nThe actor is in the airport,\\nThe chef is in the attic,\\nThe coach is in the bank,\\nThe cowboy is in the barn,\\nThe dancer is in the castle,\\nThe detective is in the church,\\nThe doctor is in the clinic,\\nThe engineer is in the factory,\\nThe farmer is in the garage,\\nThe gardener is in the hallway,\\nThe hippie is in the hotel,\\nThe inventor is in the kitchen,\\nThe judge is in the laboratory,\\nThe maid is in the library,\\nThe musician is in the museum,\\nThe pilot is in the nightclub,\\nThe pirate is in the office,\\nThe queen is in the park,\\nThe scientist is in the prison,\\nThe sheriff is in the school,\\nThe soldier is in the stadium,\\nThe spy is in the studio,\\nThe teacher is in the temple,\\nThe tourist is in the theater,\\nThe accountant is in the beach,\\nThe artist is in the cinema,\\nThe dentist is in the hospital,\\nThe nurse is in the restaurant,\\nThe writer is in the station,\\nThe barista is in the mall,\\nThe firefighter is in the zoo,\\nThe lawyer is in the pharmacy\\n]. \\n    \\nQuestion list is [\\nIs the actor in the airport?,\\nIs the chef in the attic?,\\nIs the coach in the bank?,\\nIs the cowboy in the barn?,\\nIs the dancer in the castle?,\\nIs the detective in the church?,\\nIs the doctor in the clinic?,\\nIs the engineer in the factory?,\\nIs the farmer in the garage?,\\nIs the gardener in the hallway?,\\nIs the hippie in the hotel?,\\nIs the inventor in the kitchen?,\\nIs the judge in the laboratory?,\\nIs the maid in the library?,\\nIs the musician in the museum?,\\nIs the pilot in the nightclub?,\\nIs the pirate in the office?,\\nIs the queen in the park?,\\nIs the scientist in the prison?,\\nIs the sheriff in the school?,\\nIs the soldier in the stadium?,\\nIs the spy in the studio?,\\nIs the teacher in the temple?,\\nIs the tourist in the theater?,\\nIs the accountant in the beach?,\\nIs the artist in the cinema?,\\nIs the dentist in the hospital?,\\nIs the nurse in the restaurant?,\\nIs the writer in the station?,\\nIs the barista in the mall?,\\nIs the firefighter in the zoo?,\\nIs the lawyer in the pharmacy?,\\nIs the actor in the pharmacy?,\\nIs the chef in the zoo?,\\nIs the coach in the mall?,\\nIs the cowboy in the station?,\\nIs the dancer in the restaurant?,\\nIs the detective in the hospital?,\\nIs the doctor in the cinema?,\\nIs the engineer in the beach?,\\nIs the farmer in the theater?,\\nIs the gardener in the temple?,\\nIs the hippie in the studio?,\\nIs the inventor in the stadium?,\\nIs the judge in the school?,\\nIs the maid in the prison?,\\nIs the musician in the park?,\\nIs the pilot in the office?,\\nIs the pirate in the nightclub?,\\nIs the queen in the museum?,\\nIs the scientist in the library?,\\nIs the sheriff in the laboratory?,\\nIs the soldier in the kitchen?,\\nIs the spy in the hotel?,\\nIs the teacher in the hallway?,\\nIs the tourist in the garage?,\\nIs the accountant in the factory?,\\nIs the artist in the clinic?,\\nIs the dentist in the church?,\\nIs the nurse in the castle?,\\nIs the writer in the barn?,\\nIs the barista in the bank?,\\nIs the firefighter in the attic?,\\nIs the lawyer in the airport?\\n].\\n\\n\\n'}, {'role': 'assistant', 'content': ' \"Order,Answer\"\\n1,yes\\n2,yes\\n3,yes\\n4,yes\\n5,yes\\n6,yes\\n7,yes\\n8,yes\\n9,yes\\n10,yes\\n11,yes\\n12,yes\\n13,yes\\n14,yes\\n15,yes\\n16,yes\\n17,yes\\n18,yes\\n19,no\\n20,no\\n21,no\\n22,no\\n23,no\\n24,no\\n25,no\\n26,no\\n27,no\\n28,no\\n29,no\\n30,no\\n31,no\\n32,no\\n33,no\\n34,no\\n35,no\\n36,no\\n37,no\\n38,no\\n39,no\\n40,no\\n41,no\\n42,no\\n43,no\\n44,no\\n45,no\\n46,no\\n47,no\\n48,no\\n49,no\\n50,no\\n51,no\\n52,no\\n53,no\\n54,no\\n55,no\\n56,no\\n57,no\\n58,no\\n59,no\\n60,no\\n61,no\\n62,no\\n63,no\\n64,no\\n65,no\\n66,no\\n67,no\\n68,no\\n69,no\\n70,no\\n71,no\\n72,no\\n73,no\\n74,no\\n75,no\\n76,no\\n77,no\\n78,no\\n79,no\\n80,no\\n81,no\\n82,no\\n83,no\\n84,no\\n85,no\\n86,no\\n87,no\\n88,no\\n89,no\\n90,no\\n91,no\\n92,no\\n93,no\\n94,no\\n95,no\\n96,no\\n97,no\\n98,no\\n99,no\\n100,no\\n101,no\\n102,no\\n103,no\\n104,no\\n105,no\\n106,no\\n107,no\\n108,no\\n109,no\\n110,no\\n111,no\\n112,no\\n113,no\\n114,no\\n115,no\\n116,no\\n117,no\\n118,no\\n119,no\\n120,no\\n121,no\\n122,no\\n123,no\\n124,no\\n125,no\\n126,no\\n127,no\\n128,no\\n129,no\\n130,no\\n131,no\\n132,no\\n133,no\\n134,no\\n135,no\\n136,no\\n137,no\\n138,no\\n139,no\\n140,no\\n141,no\\n142,no\\n143,no\\n144,no\\n145,no\\n146,no\\n147,no\\n148,no\\n149,no\\n150,no\\n151,no\\n152,no\\n153,no\\n154,no\\n155,no\\n156,no\\n157,no\\n158,no\\n159,no\\n160,no\\n161,no\\n162,no\\n163,no\\n164,no\\n165,no\\n166,no\\n167,no\\n168,no\\n169,no\\n170,no\\n171,no\\n172,no\\n173,no\\n174,no\\n175,no\\n176,no\\n177,no\\n178,no\\n179,no\\n180,no\\n181,no\\n182,no\\n183,no\\n184,no\\n185,no\\n186,no\\n187,no\\n188,no\\n189,no\\n190,no\\n191,no\\n192,no\\n193,no\\n194,no\\n195,no\\n196,no\\n197,no\\n198,no\\n199,no\\n200,no\\n201,no\\n202,no\\n203,no\\n204,no\\n205,no\\n206,no\\n207,no\\n208,no\\n209,no\\n210,no\\n211,no\\n212,no\\n213,no\\n214,no\\n215,no\\n216,no\\n217,no\\n218,no\\n219,no\\n220,no\\n221,no\\n222,no\\n223,no\\n224,no\\n225,no\\n226,no\\n227,no\\n228,no\\n229,no\\n230,no\\n231,no\\n232,no\\n233,no\\n234,no\\n235,no\\n236,no\\n237,no\\n238,no\\n239,no\\n240,no\\n241,no\\n242,no\\n243,no\\n244,no\\n245,no\\n246,no\\n247,no\\n248,no\\n249,no\\n250,no\\n251,no\\n252,no\\n253,no\\n254,no\\n255,no\\n256,no\\n257,no\\n258,no\\n259,no\\n260,no\\n261,no\\n262,no\\n263,no\\n264,no\\n265,no\\n266,no\\n267,no\\n268,no\\n269,no\\n270,no\\n271,no\\n272,no\\n273,no\\n274,no\\n275,no\\n276,no\\n277,no\\n278,no\\n279,no\\n280,no\\n281,no\\n282,no\\n283,no\\n284,no\\n285,no\\n286,no\\n287,no\\n288,no\\n289,no\\n290,no\\n291,no\\n292,no\\n293,no\\n294,no\\n295,no\\n296,no\\n297,no\\n298,no\\n299,no\\n300,no\\n301,no\\n302,no\\n303,no\\n304,no\\n305,no\\n306,no\\n307,no\\n308,no\\n309,no\\n310,no\\n311,no\\n312,no\\n313,no\\n314,no\\n315,no\\n316,no\\n317,no\\n318,no\\n319,no\\n320,no\\n321,no\\n322,no\\n323,no\\n324,no\\n325,no\\n326,no\\n327,no\\n328,no\\n329,no\\n330,no\\n331,no\\n332,no\\n333,no\\n334,no\\n335,no\\n336,no\\n337,no\\n338,no\\n339,no\\n340,no\\n341,no\\n342,no\\n343,no\\n344,no\\n345,no\\n346,no\\n347,no\\n348,no\\n349,no\\n350,no\\n351,no\\n352,no\\n353,no\\n354,no\\n355,no\\n356,no\\n357,no\\n358,no\\n359,no\\n360,no\\n361,no\\n362,no\\n363,no\\n364,no\\n365,no\\n366,no\\n367,no\\n368,no\\n369,no\\n370,no\\n371,no\\n372,no\\n373,no\\n374,no\\n375,no\\n376,no\\n377,no\\n378,no\\n379,no\\n380,no\\n381,no\\n382,no\\n383,no\\n384,no\\n385,no\\n386,no\\n387,no\\n388,no\\n389,no\\n390,no\\n391,no\\n392,no\\n393,no\\n394,no\\n395,no\\n396,no\\n397,no\\n398,no\\n399,no\\n400,no\\n401,no\\n402,no\\n403,no\\n404,no\\n405,no\\n406,no\\n407,no\\n408,no\\n409,no\\n410,no\\n411,no\\n412,no\\n413,no\\n414,no\\n415,no\\n416,no\\n417,no\\n418,no\\n419,no\\n420,no\\n421,no\\n422,no\\n423,no\\n424,no\\n425,no\\n426,no\\n427,no\\n428,no\\n429,no\\n430,no\\n431,no\\n432,no\\n433,no\\n434,no\\n435,no\\n436,no\\n437,no\\n438,no\\n439,no\\n440,no\\n441,no\\n442,no\\n443,no\\n444,no\\n445,no\\n446,no\\n447,no\\n448,no\\n449,no\\n450,no\\n451,no\\n452,no\\n453,no\\n454,no\\n455,no\\n456,no\\n457,no\\n458,no\\n459,no\\n460,no\\n461,no\\n462,no\\n463,no\\n464,no\\n465,no\\n466,no\\n467,no\\n468,no\\n469,no\\n470,no\\n471,no\\n472,no\\n473,no\\n474,no\\n475,no\\n476,no\\n477,no\\n478,no\\n479,no\\n480,no\\n481,no\\n482,no\\n483,no\\n484,no\\n485,no\\n486,no\\n487,no\\n488,no\\n489,no\\n490,no\\n491,no\\n492,no\\n493,no\\n494,no\\n495,no\\n496,no\\n497,no\\n498,no\\n499,no\\n500,no\\n501,no\\n502,no\\n503,no\\n504,no\\n505,no\\n506,no\\n507,no\\n508,no\\n509,no\\n510,no\\n511,no\\n512,no\\n513,no\\n514,no\\n515,no\\n516,no\\n517,no\\n518,no\\n519,no\\n520,no\\n521,no\\n522,no\\n523,no\\n524,no\\n525,no\\n526,no\\n527,no\\n528,no\\n529,no\\n530,no\\n531,no\\n532,no\\n533,no\\n534,no\\n535,no\\n536,no\\n537,no\\n538,no\\n539,no\\n540,no\\n541,no\\n542,no\\n543,no\\n544,no\\n545,no\\n546,no\\n547,no\\n548,no\\n549,no\\n550,no\\n551,no\\n552,no\\n553,no\\n554,no\\n555,no\\n556,no\\n557,no\\n558,no\\n559,no\\n560,no\\n561,no\\n562,no\\n563,no\\n564,no\\n565,no\\n566,no\\n567,no\\n568,no\\n569,no\\n570,no\\n571,no\\n572,no\\n573,no\\n574,no\\n575,no\\n576,no\\n577,no\\n578,no\\n579,no\\n580,no\\n581,no\\n582,no\\n583,no\\n584,no\\n585,no\\n586,no\\n587,no\\n588,no\\n589,no\\n590,no\\n591,no\\n592,no\\n593,no\\n594,no\\n595,no\\n596,no\\n597,no\\n598,no\\n599,no\\n600,no\\n601,no\\n602,no\\n603,no\\n604,no\\n605,no\\n606,no\\n607,no\\n608,no\\n609,no\\n610,no\\n611,no\\n612,no\\n613,no\\n614,no\\n615,no\\n616,no\\n617,no\\n618,no\\n619,no\\n620,no\\n621,no\\n622,no\\n623,no\\n624,no\\n625,no\\n626,no\\n627,no\\n628,no\\n629,no\\n630,no\\n631,no\\n632,no\\n633,no\\n634,no\\n635,no\\n636,no\\n637,no\\n638,no\\n639,no\\n640,no\\n641,no\\n642,no\\n643,no\\n644,no\\n645,no\\n646,no\\n647,no\\n648,no\\n649,no\\n650,no\\n651,no\\n652,no\\n653,no\\n654,no\\n655,no\\n656,no\\n657,no\\n658,no\\n659,no\\n660,no\\n661,no\\n662,no\\n663,no\\n664,no\\n665,no\\n666,no\\n667,no\\n668,no\\n669,no\\n670,no\\n671,no\\n672,no\\n673,no\\n674,no\\n675,no\\n676,no\\n677,no\\n678,no\\n679,no\\n680,no\\n681,no\\n682,no\\n683,no\\n684,no\\n685,no\\n686,no\\n687,no\\n688,no\\n689,no\\n690,no\\n691,no\\n692,no\\n693,no\\n694,no\\n695,no\\n696,no\\n697,no\\n698,no\\n699,no\\n700,no\\n701,no\\n702,no\\n703,no\\n704,no\\n705,no\\n706,no\\n707,no\\n708,no\\n709,no\\n710,no\\n711,no\\n712,no\\n713,no\\n714,no\\n715,no\\n716,no\\n717,no\\n718,no\\n719,no\\n720,no\\n721,no\\n722,no\\n723,no\\n724,no\\n725,no\\n726,no\\n727,no\\n728,no\\n729,no\\n730,no\\n731,no\\n732,no\\n733,no\\n734,no\\n735,no\\n736,no\\n737,no\\n738,no\\n739,no\\n740,no\\n741,no\\n742,no\\n743,no\\n744,no\\n745,no\\n746,no\\n747,no\\n748,no\\n749,no\\n750,no\\n751,no\\n752,no\\n753,no\\n754,no\\n755,no\\n756,no\\n757,no\\n758,no\\n759,no\\n760,no\\n761,no\\n762,no\\n763,no\\n764,no\\n765,no\\n766,no\\n767,no\\n768,no\\n769,no\\n770,no\\n771,no\\n772,no\\n773,no\\n774,no\\n775,no\\n776,no\\n777,no\\n778,no\\n779,no\\n780,no\\n781,no\\n782,no\\n783,no\\n784,no\\n785,no\\n786,no\\n787,no\\n788,no\\n789,no\\n790,no\\n791,no\\n792,no\\n793,no\\n794,no\\n795,no\\n796,no\\n797,no\\n798,no\\n799,no\\n800,no\\n801,no\\n802,no\\n803,no\\n804,no\\n805,no\\n806,no\\n807,no\\n808,no\\n809,no\\n810,no\\n811,no\\n812,no\\n813,no\\n814,no\\n815,no\\n816,no\\n817,no\\n818,no\\n819,no\\n820,no\\n821,no\\n822,no\\n823,no\\n824,no\\n825,no\\n826,no\\n827,no\\n828,no\\n829,no\\n830,no\\n831,no\\n832,no\\n833,no\\n834,no\\n835,no\\n836,no\\n837,no\\n838,no\\n839,no\\n840,no\\n841,no\\n842,no\\n843,no\\n844,no\\n845,no\\n846,no\\n847,no\\n848,no\\n849,no\\n850,no\\n85'}]\n"
     ]
    }
   ],
   "source": [
    "\n",
    "torch.random.manual_seed(0)\n",
    "\n",
    "model = AutoModelForCausalLM.from_pretrained(\n",
    "    \"microsoft/Phi-3.5-mini-instruct\", \n",
    "    device_map=\"cuda\", \n",
    "    torch_dtype=\"auto\", \n",
    "    trust_remote_code=True, \n",
    ")\n",
    "tokenizer = AutoTokenizer.from_pretrained(\"microsoft/Phi-3.5-mini-instruct\")\n",
    "\n",
    "messages = [\n",
    "    {\"role\": \"system\", \"content\": \"You are a helpful AI assistant.\"},\n",
    "    {\"role\": \"user\", \"content\": prompt}\n",
    "]\n",
    "\n",
    "pipe = pipeline(\n",
    "    \"text-generation\",\n",
    "    model=model,\n",
    "    tokenizer=tokenizer,\n",
    ")\n",
    "\n",
    "generation_args = {\n",
    "    \"max_new_tokens\": 5000\n",
    "    # \"return_full_text\": False,\n",
    "    # \"temperature\": 0.0,\n",
    "    # \"do_sample\": False,\n",
    "}\n",
    "\n",
    "output = pipe(messages, **generation_args)\n",
    "print(output[0]['generated_text'])"
   ]
  },
  {
   "cell_type": "code",
   "execution_count": null,
   "id": "1e55c79e",
   "metadata": {},
   "outputs": [],
   "source": []
  },
  {
   "cell_type": "code",
   "execution_count": null,
   "id": "5f8f312d",
   "metadata": {},
   "outputs": [],
   "source": []
  },
  {
   "cell_type": "code",
   "execution_count": null,
   "id": "4a465e43",
   "metadata": {},
   "outputs": [],
   "source": []
  },
  {
   "cell_type": "code",
   "execution_count": null,
   "id": "55ed1b2a",
   "metadata": {},
   "outputs": [],
   "source": []
  },
  {
   "cell_type": "code",
   "execution_count": null,
   "id": "a8f28d50",
   "metadata": {},
   "outputs": [],
   "source": []
  }
 ],
 "metadata": {
  "kernelspec": {
   "display_name": "Python 3",
   "language": "python",
   "name": "python3"
  },
  "language_info": {
   "codemirror_mode": {
    "name": "ipython",
    "version": 3
   },
   "file_extension": ".py",
   "mimetype": "text/x-python",
   "name": "python",
   "nbconvert_exporter": "python",
   "pygments_lexer": "ipython3",
   "version": "3.10.12"
  }
 },
 "nbformat": 4,
 "nbformat_minor": 5
}
